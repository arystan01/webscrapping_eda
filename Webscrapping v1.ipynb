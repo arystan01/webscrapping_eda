{
 "cells": [
  {
   "cell_type": "code",
   "execution_count": 1,
   "metadata": {},
   "outputs": [],
   "source": [
    "from selenium import webdriver\n",
    "from selenium.webdriver.common.by import By\n",
    "from selenium.webdriver.support.ui import WebDriverWait\n",
    "from selenium.webdriver.support import expected_conditions as EC\n",
    "from bs4 import BeautifulSoup\n",
    "import pandas as pd\n",
    "import time\n",
    "import matplotlib.pyplot as plt\n",
    "import seaborn as sns\n",
    "from sklearn.linear_model import LinearRegression\n",
    "from sklearn.metrics import mean_squared_error\n",
    "import numpy as np"
   ]
  },
  {
   "cell_type": "markdown",
   "metadata": {},
   "source": [
    "# <center><b>WebScrapping from kolesa.kz</b></center>"
   ]
  },
  {
   "cell_type": "code",
   "execution_count": 2,
   "metadata": {},
   "outputs": [],
   "source": [
    "driver = webdriver.Chrome()  "
   ]
  },
  {
   "cell_type": "code",
   "execution_count": 3,
   "metadata": {},
   "outputs": [],
   "source": [
    "city = 'astana'\n",
    "car_company = 'toyota'\n",
    "car_model = 'camry'\n",
    "start_year = 2019"
   ]
  },
  {
   "cell_type": "code",
   "execution_count": 4,
   "metadata": {},
   "outputs": [],
   "source": [
    "url = f'https://kolesa.kz/cars/{car_company}/{car_model}/{city}/?year%5Bfrom%5D={start_year}'"
   ]
  },
  {
   "cell_type": "code",
   "execution_count": 5,
   "metadata": {},
   "outputs": [],
   "source": [
    "driver.get(url)"
   ]
  },
  {
   "cell_type": "code",
   "execution_count": 6,
   "metadata": {},
   "outputs": [],
   "source": [
    "time.sleep(5)"
   ]
  },
  {
   "cell_type": "code",
   "execution_count": 7,
   "metadata": {},
   "outputs": [
    {
     "data": {
      "text/plain": [
       "<selenium.webdriver.remote.webelement.WebElement (session=\"1fdcf426ac8ef331a9ddbd55d9e64e60\", element=\"f.941A55A46153814A8B4EF3E805607FFC.d.EDD2E4BF5831C8DCA13003D06A98C109.e.150\")>"
      ]
     },
     "execution_count": 7,
     "metadata": {},
     "output_type": "execute_result"
    }
   ],
   "source": [
    "WebDriverWait(driver, 10).until(EC.presence_of_element_located((By.CLASS_NAME, 'a-card__info')))"
   ]
  },
  {
   "cell_type": "code",
   "execution_count": 8,
   "metadata": {},
   "outputs": [],
   "source": [
    "soup = BeautifulSoup(driver.page_source, 'html.parser')"
   ]
  },
  {
   "cell_type": "code",
   "execution_count": 9,
   "metadata": {},
   "outputs": [],
   "source": [
    "car_listings = soup.find_all('div', class_='a-card')"
   ]
  },
  {
   "cell_type": "code",
   "execution_count": 10,
   "metadata": {},
   "outputs": [
    {
     "name": "stdout",
     "output_type": "stream",
     "text": [
      "max page: 23\n"
     ]
    }
   ],
   "source": [
    "driver.get(url)\n",
    "soup = BeautifulSoup(driver.page_source, 'html.parser')\n",
    "\n",
    "pagination_links = soup.select('a[href*=\"page=\"]')\n",
    "pages = []\n",
    "for link in pagination_links:\n",
    "    text = link.get_text(strip=True)\n",
    "    try:\n",
    "        pages.append(int(text))\n",
    "    except ValueError:\n",
    "        continue\n",
    "\n",
    "max_page = max(pages) if pages else 1\n",
    "print(\"max page:\", max_page)"
   ]
  },
  {
   "cell_type": "code",
   "execution_count": 11,
   "metadata": {},
   "outputs": [],
   "source": [
    "cars = []\n",
    "\n",
    "for page in range(1, max_page):  \n",
    "    url = f'https://kolesa.kz/cars/{car_company}/{car_model}/{city}/?year%5Bfrom%5D={start_year}&page={page}'\n",
    "    driver.get(url)\n",
    "\n",
    "    WebDriverWait(driver, 10).until(\n",
    "        EC.presence_of_element_located((By.CLASS_NAME, 'a-card__link'))\n",
    "    )\n",
    "\n",
    "    soup = BeautifulSoup(driver.page_source, 'html.parser')\n",
    "\n",
    "    listings = soup.find_all('div', class_='a-list__item')\n",
    "\n",
    "    for item in listings:\n",
    "        \n",
    "        header = item.find('div', class_='a-card__header')\n",
    "        if header:\n",
    "            title_elem = header.find('h5', class_='a-card__title')\n",
    "            if title_elem:\n",
    "                link_elem = title_elem.find('a', class_='a-card__link')\n",
    "        price_elem = item.find('span', class_='a-card__price')\n",
    "        desc_elem = item.find('p', class_='a-card__description')\n",
    "\n",
    "        if title_elem and price_elem and desc_elem:\n",
    "            title = title_elem.text.strip()\n",
    "            price = price_elem.text.strip().replace('\\xa0', ' ')\n",
    "            description = desc_elem.text.strip()\n",
    "            link = 'https://kolesa.kz' + link_elem['href'] if link_elem and link_elem.has_attr('href') else None\n",
    "\n",
    "\n",
    "            cars.append({\n",
    "                'Title': title,\n",
    "                'Price': price,\n",
    "                'Description': description,\n",
    "                'URL': url\n",
    "            })\n",
    "\n",
    "    time.sleep(2)"
   ]
  },
  {
   "cell_type": "markdown",
   "metadata": {},
   "source": [
    "# <center><b>Explaratory Data Analysis</b></center>"
   ]
  },
  {
   "cell_type": "code",
   "execution_count": 12,
   "metadata": {},
   "outputs": [],
   "source": [
    "df = pd.DataFrame(cars)\n",
    "\n",
    "df['Year'] = df['Description'].str.extract(r'(\\d{4}) г\\.')\n",
    "df['Condition'] = df['Description'].str.extract(r'(Б/у|новый)')\n",
    "df['Car Type'] = df['Description'].str.extract(r'(седан|внедорожник|купе|хэтчбек|универсал|кроссовер)')\n",
    "df['Engine Size (L)'] = df['Description'].str.extract(r'(\\d\\.\\d) л')\n",
    "df['Fuel Type'] = df['Description'].str.extract(r'(бензин|дизель|газ|гибрид|электро)')\n",
    "df['Transmission'] = df['Description'].str.extract(r'(КПП автомат|КПП механика|КПП вариатор|АКПП|МКПП)')\n",
    "df['Mileage (km)'] = df['Description'].str.extract(r'с пробегом ([\\d\\s]+) км')\n",
    "\n",
    "df['Condition'] = df['Condition'].apply(lambda x: x.strip() if isinstance(x, str) else x)\n",
    "df['Car Type'] = df['Car Type'].apply(lambda x: x.strip() if isinstance(x, str) else x)\n",
    "df['Fuel Type'] = df['Fuel Type'].apply(lambda x: x.strip() if isinstance(x, str) else x)\n",
    "df['Transmission'] = df['Transmission'].apply(lambda x: x.strip() if isinstance(x, str) else x)\n",
    "df['Mileage (km)'] = df['Mileage (km)'].str.replace(' ', '').fillna('0').astype(int)\n",
    "\n",
    "df.drop('Description', axis=1, inplace=True) #becomes useless\n",
    "\n",
    "condition_mapping = {\n",
    "    \"Б/у\": \"Used\",\n",
    "    \"новый\": \"New\"\n",
    "}\n",
    "\n",
    "car_type_mapping = {\n",
    "    \"седан\": \"Sedan\",\n",
    "    \"внедорожник\": \"SUV\",\n",
    "    \"купе\": \"Coupe\",\n",
    "    \"хэтчбек\": \"Hatchback\",\n",
    "    \"универсал\": \"Station Wagon\",\n",
    "    \"кроссовер\": \"Crossover\"\n",
    "}\n",
    "\n",
    "fuel_mapping = {\n",
    "    \"бензин\": \"Gasoline\",\n",
    "    \"дизель\": \"Diesel\",\n",
    "    \"газ\": \"Gas\",\n",
    "    \"гибрид\": \"Hybrid\",\n",
    "    \"электро\": \"Electric\"\n",
    "}\n",
    "\n",
    "transmission_mapping = {\n",
    "    \"КПП автомат\": \"Automatic\",\n",
    "    \"КПП механика\": \"Manual\",\n",
    "    \"КПП вариатор\": \"CVT\",\n",
    "    \"АКПП\": \"Automatic\",\n",
    "    \"МКПП\": \"Manual\"\n",
    "}"
   ]
  },
  {
   "cell_type": "markdown",
   "metadata": {},
   "source": [
    "Applying mapping:"
   ]
  },
  {
   "cell_type": "code",
   "execution_count": 13,
   "metadata": {},
   "outputs": [
    {
     "data": {
      "text/html": [
       "<div>\n",
       "<style scoped>\n",
       "    .dataframe tbody tr th:only-of-type {\n",
       "        vertical-align: middle;\n",
       "    }\n",
       "\n",
       "    .dataframe tbody tr th {\n",
       "        vertical-align: top;\n",
       "    }\n",
       "\n",
       "    .dataframe thead th {\n",
       "        text-align: right;\n",
       "    }\n",
       "</style>\n",
       "<table border=\"1\" class=\"dataframe\">\n",
       "  <thead>\n",
       "    <tr style=\"text-align: right;\">\n",
       "      <th></th>\n",
       "      <th>Title</th>\n",
       "      <th>Price</th>\n",
       "      <th>URL</th>\n",
       "      <th>Year</th>\n",
       "      <th>Condition</th>\n",
       "      <th>Car Type</th>\n",
       "      <th>Engine Size (L)</th>\n",
       "      <th>Fuel Type</th>\n",
       "      <th>Transmission</th>\n",
       "      <th>Mileage (km)</th>\n",
       "    </tr>\n",
       "  </thead>\n",
       "  <tbody>\n",
       "    <tr>\n",
       "      <th>0</th>\n",
       "      <td>Toyota Camry</td>\n",
       "      <td>12 850 000 ₸</td>\n",
       "      <td>https://kolesa.kz/cars/toyota/camry/astana/?ye...</td>\n",
       "      <td>2022</td>\n",
       "      <td>Used</td>\n",
       "      <td>Sedan</td>\n",
       "      <td>2.5</td>\n",
       "      <td>Gasoline</td>\n",
       "      <td>Automatic</td>\n",
       "      <td>122010</td>\n",
       "    </tr>\n",
       "    <tr>\n",
       "      <th>1</th>\n",
       "      <td>Toyota Camry</td>\n",
       "      <td>13 370 000 ₸</td>\n",
       "      <td>https://kolesa.kz/cars/toyota/camry/astana/?ye...</td>\n",
       "      <td>2020</td>\n",
       "      <td>Used</td>\n",
       "      <td>Sedan</td>\n",
       "      <td>2.5</td>\n",
       "      <td>Gasoline</td>\n",
       "      <td>Automatic</td>\n",
       "      <td>116366</td>\n",
       "    </tr>\n",
       "    <tr>\n",
       "      <th>2</th>\n",
       "      <td>Toyota Camry</td>\n",
       "      <td>14 440 000 ₸</td>\n",
       "      <td>https://kolesa.kz/cars/toyota/camry/astana/?ye...</td>\n",
       "      <td>2021</td>\n",
       "      <td>Used</td>\n",
       "      <td>Sedan</td>\n",
       "      <td>2.5</td>\n",
       "      <td>Gasoline</td>\n",
       "      <td>Automatic</td>\n",
       "      <td>47379</td>\n",
       "    </tr>\n",
       "    <tr>\n",
       "      <th>3</th>\n",
       "      <td>Toyota Camry</td>\n",
       "      <td>13 580 000 ₸</td>\n",
       "      <td>https://kolesa.kz/cars/toyota/camry/astana/?ye...</td>\n",
       "      <td>2021</td>\n",
       "      <td>Used</td>\n",
       "      <td>Sedan</td>\n",
       "      <td>2.5</td>\n",
       "      <td>Gasoline</td>\n",
       "      <td>Automatic</td>\n",
       "      <td>49509</td>\n",
       "    </tr>\n",
       "    <tr>\n",
       "      <th>4</th>\n",
       "      <td>Toyota Camry</td>\n",
       "      <td>15 000 000 ₸</td>\n",
       "      <td>https://kolesa.kz/cars/toyota/camry/astana/?ye...</td>\n",
       "      <td>2019</td>\n",
       "      <td>Used</td>\n",
       "      <td>Sedan</td>\n",
       "      <td>2.5</td>\n",
       "      <td>Gasoline</td>\n",
       "      <td>Automatic</td>\n",
       "      <td>92000</td>\n",
       "    </tr>\n",
       "    <tr>\n",
       "      <th>...</th>\n",
       "      <td>...</td>\n",
       "      <td>...</td>\n",
       "      <td>...</td>\n",
       "      <td>...</td>\n",
       "      <td>...</td>\n",
       "      <td>...</td>\n",
       "      <td>...</td>\n",
       "      <td>...</td>\n",
       "      <td>...</td>\n",
       "      <td>...</td>\n",
       "    </tr>\n",
       "    <tr>\n",
       "      <th>435</th>\n",
       "      <td>Toyota Camry</td>\n",
       "      <td>19 000 000 ₸</td>\n",
       "      <td>https://kolesa.kz/cars/toyota/camry/astana/?ye...</td>\n",
       "      <td>2023</td>\n",
       "      <td>Used</td>\n",
       "      <td>Sedan</td>\n",
       "      <td>2.5</td>\n",
       "      <td>Gasoline</td>\n",
       "      <td>Automatic</td>\n",
       "      <td>12000</td>\n",
       "    </tr>\n",
       "    <tr>\n",
       "      <th>436</th>\n",
       "      <td>Toyota Camry</td>\n",
       "      <td>14 500 000 ₸</td>\n",
       "      <td>https://kolesa.kz/cars/toyota/camry/astana/?ye...</td>\n",
       "      <td>2019</td>\n",
       "      <td>Used</td>\n",
       "      <td>Sedan</td>\n",
       "      <td>2.5</td>\n",
       "      <td>Gasoline</td>\n",
       "      <td>Automatic</td>\n",
       "      <td>64000</td>\n",
       "    </tr>\n",
       "    <tr>\n",
       "      <th>437</th>\n",
       "      <td>Toyota Camry</td>\n",
       "      <td>15 400 000 ₸</td>\n",
       "      <td>https://kolesa.kz/cars/toyota/camry/astana/?ye...</td>\n",
       "      <td>2019</td>\n",
       "      <td>Used</td>\n",
       "      <td>Sedan</td>\n",
       "      <td>2.5</td>\n",
       "      <td>Gasoline</td>\n",
       "      <td>Automatic</td>\n",
       "      <td>66000</td>\n",
       "    </tr>\n",
       "    <tr>\n",
       "      <th>438</th>\n",
       "      <td>Toyota Camry</td>\n",
       "      <td>16 800 000 ₸</td>\n",
       "      <td>https://kolesa.kz/cars/toyota/camry/astana/?ye...</td>\n",
       "      <td>2023</td>\n",
       "      <td>Used</td>\n",
       "      <td>Sedan</td>\n",
       "      <td>2.5</td>\n",
       "      <td>Gasoline</td>\n",
       "      <td>Automatic</td>\n",
       "      <td>43000</td>\n",
       "    </tr>\n",
       "    <tr>\n",
       "      <th>439</th>\n",
       "      <td>Toyota Camry</td>\n",
       "      <td>13 700 000 ₸</td>\n",
       "      <td>https://kolesa.kz/cars/toyota/camry/astana/?ye...</td>\n",
       "      <td>2020</td>\n",
       "      <td>Used</td>\n",
       "      <td>Sedan</td>\n",
       "      <td>2.5</td>\n",
       "      <td>Gasoline</td>\n",
       "      <td>Automatic</td>\n",
       "      <td>90000</td>\n",
       "    </tr>\n",
       "  </tbody>\n",
       "</table>\n",
       "<p>440 rows × 10 columns</p>\n",
       "</div>"
      ],
      "text/plain": [
       "            Title         Price  \\\n",
       "0    Toyota Camry  12 850 000 ₸   \n",
       "1    Toyota Camry  13 370 000 ₸   \n",
       "2    Toyota Camry  14 440 000 ₸   \n",
       "3    Toyota Camry  13 580 000 ₸   \n",
       "4    Toyota Camry  15 000 000 ₸   \n",
       "..            ...           ...   \n",
       "435  Toyota Camry  19 000 000 ₸   \n",
       "436  Toyota Camry  14 500 000 ₸   \n",
       "437  Toyota Camry  15 400 000 ₸   \n",
       "438  Toyota Camry  16 800 000 ₸   \n",
       "439  Toyota Camry  13 700 000 ₸   \n",
       "\n",
       "                                                   URL  Year Condition  \\\n",
       "0    https://kolesa.kz/cars/toyota/camry/astana/?ye...  2022      Used   \n",
       "1    https://kolesa.kz/cars/toyota/camry/astana/?ye...  2020      Used   \n",
       "2    https://kolesa.kz/cars/toyota/camry/astana/?ye...  2021      Used   \n",
       "3    https://kolesa.kz/cars/toyota/camry/astana/?ye...  2021      Used   \n",
       "4    https://kolesa.kz/cars/toyota/camry/astana/?ye...  2019      Used   \n",
       "..                                                 ...   ...       ...   \n",
       "435  https://kolesa.kz/cars/toyota/camry/astana/?ye...  2023      Used   \n",
       "436  https://kolesa.kz/cars/toyota/camry/astana/?ye...  2019      Used   \n",
       "437  https://kolesa.kz/cars/toyota/camry/astana/?ye...  2019      Used   \n",
       "438  https://kolesa.kz/cars/toyota/camry/astana/?ye...  2023      Used   \n",
       "439  https://kolesa.kz/cars/toyota/camry/astana/?ye...  2020      Used   \n",
       "\n",
       "    Car Type  Engine Size (L) Fuel Type Transmission  Mileage (km)  \n",
       "0      Sedan              2.5  Gasoline    Automatic        122010  \n",
       "1      Sedan              2.5  Gasoline    Automatic        116366  \n",
       "2      Sedan              2.5  Gasoline    Automatic         47379  \n",
       "3      Sedan              2.5  Gasoline    Automatic         49509  \n",
       "4      Sedan              2.5  Gasoline    Automatic         92000  \n",
       "..       ...              ...       ...          ...           ...  \n",
       "435    Sedan              2.5  Gasoline    Automatic         12000  \n",
       "436    Sedan              2.5  Gasoline    Automatic         64000  \n",
       "437    Sedan              2.5  Gasoline    Automatic         66000  \n",
       "438    Sedan              2.5  Gasoline    Automatic         43000  \n",
       "439    Sedan              2.5  Gasoline    Automatic         90000  \n",
       "\n",
       "[440 rows x 10 columns]"
      ]
     },
     "execution_count": 13,
     "metadata": {},
     "output_type": "execute_result"
    }
   ],
   "source": [
    "df['Condition'] = df['Condition'].map(condition_mapping)\n",
    "df['Car Type'] = df['Car Type'].map(car_type_mapping)\n",
    "df['Fuel Type'] = df['Fuel Type'].map(fuel_mapping)\n",
    "df['Transmission'] = df['Transmission'].map(transmission_mapping)\n",
    "\n",
    "df['Year'] = pd.to_numeric(df['Year'], errors='coerce')\n",
    "df['Engine Size (L)'] = pd.to_numeric(df['Engine Size (L)'], errors='coerce')\n",
    "\n",
    "df"
   ]
  },
  {
   "cell_type": "code",
   "execution_count": 14,
   "metadata": {},
   "outputs": [],
   "source": [
    "df['Year'] = pd.to_numeric(df['Year'], errors='coerce', downcast='integer')\n",
    "df['Price'] = df['Price'].str.replace(r'\\D+', '', regex=True)\n",
    "df['Price'] = pd.to_numeric(df['Price'], errors='coerce', downcast='integer')\n",
    "df['Engine Size (L)'] = pd.to_numeric(df['Engine Size (L)'], errors='coerce')\n",
    "df['Mileage (km)'] = pd.to_numeric(df['Mileage (km)'], errors='coerce', downcast='integer')\n",
    "df['Engine Size (L)'] = df['Engine Size (L)'].astype('category')"
   ]
  },
  {
   "cell_type": "code",
   "execution_count": 15,
   "metadata": {},
   "outputs": [
    {
     "data": {
      "text/plain": [
       "Index(['Title', 'Price', 'URL', 'Year', 'Condition', 'Car Type',\n",
       "       'Engine Size (L)', 'Fuel Type', 'Transmission', 'Mileage (km)'],\n",
       "      dtype='object')"
      ]
     },
     "execution_count": 15,
     "metadata": {},
     "output_type": "execute_result"
    }
   ],
   "source": [
    "df.columns"
   ]
  },
  {
   "cell_type": "code",
   "execution_count": 16,
   "metadata": {},
   "outputs": [
    {
     "data": {
      "text/plain": [
       "Title                object\n",
       "Price                 int32\n",
       "URL                  object\n",
       "Year                  int16\n",
       "Condition            object\n",
       "Car Type             object\n",
       "Engine Size (L)    category\n",
       "Fuel Type            object\n",
       "Transmission         object\n",
       "Mileage (km)          int32\n",
       "dtype: object"
      ]
     },
     "execution_count": 16,
     "metadata": {},
     "output_type": "execute_result"
    }
   ],
   "source": [
    "df.dtypes"
   ]
  },
  {
   "cell_type": "code",
   "execution_count": 17,
   "metadata": {},
   "outputs": [
    {
     "name": "stdout",
     "output_type": "stream",
     "text": [
      "Title               0\n",
      "Price               0\n",
      "URL                 0\n",
      "Year                0\n",
      "Condition           0\n",
      "Car Type            0\n",
      "Engine Size (L)    37\n",
      "Fuel Type           0\n",
      "Transmission        0\n",
      "Mileage (km)        0\n",
      "dtype: int64\n"
     ]
    }
   ],
   "source": [
    "print(df.isnull().sum()) #missing values per column"
   ]
  },
  {
   "cell_type": "markdown",
   "metadata": {},
   "source": [
    "#### Extracting engine size from the Title (if \"2.5\" or \"3.5\" is mentioned)"
   ]
  },
  {
   "cell_type": "code",
   "execution_count": 18,
   "metadata": {},
   "outputs": [],
   "source": [
    "def impute_engine_from_title(row):\n",
    "    if pd.isna(row['Engine Size (L)']):\n",
    "        title = row['Title'].lower()\n",
    "        if '2.5' in title:\n",
    "            return 2.5\n",
    "        elif '3.5' in title:\n",
    "            return 3.5\n",
    "    return row['Engine Size (L)']\n",
    "\n",
    "df['Engine Size (L)'] = df.apply(impute_engine_from_title, axis=1)\n"
   ]
  },
  {
   "cell_type": "code",
   "execution_count": 19,
   "metadata": {},
   "outputs": [],
   "source": [
    "mode_engine = df['Engine Size (L)'].mode()[0]\n",
    "df['Engine Size (L)'] = df['Engine Size (L)'].fillna(mode_engine)\n"
   ]
  },
  {
   "cell_type": "code",
   "execution_count": 20,
   "metadata": {},
   "outputs": [
    {
     "name": "stdout",
     "output_type": "stream",
     "text": [
      "Title              0\n",
      "Price              0\n",
      "URL                0\n",
      "Year               0\n",
      "Condition          0\n",
      "Car Type           0\n",
      "Engine Size (L)    0\n",
      "Fuel Type          0\n",
      "Transmission       0\n",
      "Mileage (km)       0\n",
      "dtype: int64\n"
     ]
    }
   ],
   "source": [
    "print(df.isnull().sum()) #missing values per column"
   ]
  },
  {
   "cell_type": "code",
   "execution_count": 21,
   "metadata": {},
   "outputs": [
    {
     "data": {
      "image/png": "[encoded data removed]",
      "text/plain": [
       "<Figure size 800x500 with 1 Axes>"
      ]
     },
     "metadata": {},
     "output_type": "display_data"
    }
   ],
   "source": [
    "plt.figure(figsize=(8, 5))\n",
    "sns.histplot(df['Price'], bins=30, kde=True)\n",
    "plt.title(f'Distribution of {car_model} prices')\n",
    "plt.xlabel('Price (KZT)')\n",
    "plt.ylabel('Count')\n",
    "\n",
    "plt.show()"
   ]
  },
  {
   "cell_type": "code",
   "execution_count": 22,
   "metadata": {},
   "outputs": [
    {
     "data": {
      "image/png": "[encoded data removed]",
      "text/plain": [
       "<Figure size 800x500 with 1 Axes>"
      ]
     },
     "metadata": {},
     "output_type": "display_data"
    }
   ],
   "source": [
    "plt.figure(figsize=(8, 5))\n",
    "sns.barplot(data=df, x='Condition', y='Price', estimator='mean')\n",
    "plt.title('Average Price by Condition')\n",
    "plt.xlabel('Condition')\n",
    "plt.ylabel('Average Price (KZT) in 10mil')\n",
    "plt.show()\n"
   ]
  },
  {
   "cell_type": "code",
   "execution_count": 23,
   "metadata": {},
   "outputs": [
    {
     "name": "stdout",
     "output_type": "stream",
     "text": [
      "(440, 10)\n",
      "(440, 2)\n"
     ]
    }
   ],
   "source": [
    "print(df.shape)\n",
    "print(df[['Mileage (km)', 'Price']].dropna().shape)"
   ]
  },
  {
   "cell_type": "code",
   "execution_count": 24,
   "metadata": {},
   "outputs": [
    {
     "name": "stdout",
     "output_type": "stream",
     "text": [
      "0\n",
      "0\n"
     ]
    }
   ],
   "source": [
    "print(df['Mileage (km)'].isna().sum())\n",
    "print(df['Price'].isna().sum())"
   ]
  },
  {
   "cell_type": "code",
   "execution_count": 25,
   "metadata": {},
   "outputs": [
    {
     "data": {
      "image/png": "[encoded data removed]",
      "text/plain": [
       "<Figure size 1000x600 with 1 Axes>"
      ]
     },
     "metadata": {},
     "output_type": "display_data"
    }
   ],
   "source": [
    "plt.figure(figsize=(10, 6))\n",
    "sns.scatterplot(data=df, x='Mileage (km)', y='Price', alpha=0.8)\n",
    "plt.title('Mileage vs Price (with alpha for overlaps)')\n",
    "plt.xlabel('Mileage (km)')\n",
    "plt.ylabel('Price (KZT)')\n",
    "plt.show()\n"
   ]
  }
 ],
 "metadata": {
  "kernelspec": {
   "display_name": "Python 3",
   "language": "python",
   "name": "python3"
  },
  "language_info": {
   "codemirror_mode": {
    "name": "ipython",
    "version": 3
   },
   "file_extension": ".py",
   "mimetype": "text/x-python",
   "name": "python",
   "nbconvert_exporter": "python",
   "pygments_lexer": "ipython3",
   "version": "3.12.6"
  }
 },
 "nbformat": 4,
 "nbformat_minor": 2
}
